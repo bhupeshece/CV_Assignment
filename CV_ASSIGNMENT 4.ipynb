{
 "cells": [
  {
   "cell_type": "code",
   "execution_count": 1,
   "id": "bfb12fb1",
   "metadata": {},
   "outputs": [
    {
     "data": {
      "text/plain": [
       "'\\nCyclic learning rates (and cyclic momentum, which usually goes hand-in-hand) \\nis a learning rate scheduling technique for faster training of a network and a finer understanding of the optimal learning rate.\\n'"
      ]
     },
     "execution_count": 1,
     "metadata": {},
     "output_type": "execute_result"
    }
   ],
   "source": [
    "#Q1\n",
    "\"\"\"\n",
    "Cyclic learning rates (and cyclic momentum, which usually goes hand-in-hand) \n",
    "is a learning rate scheduling technique for faster training of a network and a finer understanding of the optimal learning rate.\n",
    "\"\"\""
   ]
  },
  {
   "cell_type": "code",
   "execution_count": 2,
   "id": "968cde4f",
   "metadata": {},
   "outputs": [
    {
     "data": {
      "text/plain": [
       "'\\nA callback is a set of functions to be applied at given stages of the training procedure. You can use callbacks to get a view on internal states and statistics of the model during training\\n\\nThis is exactly what we need as now we can get_weights() after each mini batch(i.e. after each iteration). The weights are stored in a weight_history list to be accessed later. \\nA separate list is also maintained for the bias terms\\n'"
      ]
     },
     "execution_count": 2,
     "metadata": {},
     "output_type": "execute_result"
    }
   ],
   "source": [
    "#Q2\n",
    "\"\"\"\n",
    "A callback is a set of functions to be applied at given stages of the training procedure. You can use callbacks to get a view on internal states and statistics of the model during training\n",
    "\n",
    "This is exactly what we need as now we can get_weights() after each mini batch(i.e. after each iteration). The weights are stored in a weight_history list to be accessed later. \n",
    "A separate list is also maintained for the bias terms\n",
    "\"\"\""
   ]
  },
  {
   "cell_type": "code",
   "execution_count": 3,
   "id": "7efca860",
   "metadata": {},
   "outputs": [
    {
     "data": {
      "text/plain": [
       "'\\nA pixel is represented by a dot or square on a computer monitor display screen.\\nPixels are the basic building blocks of a digital image or display and are created using geometric coordinates\\nA color image uses 24 bits to represent a pixel\\n'"
      ]
     },
     "execution_count": 3,
     "metadata": {},
     "output_type": "execute_result"
    }
   ],
   "source": [
    "#Q3\n",
    "\"\"\"\n",
    "A pixel is represented by a dot or square on a computer monitor display screen.\n",
    "Pixels are the basic building blocks of a digital image or display and are created using geometric coordinates\n",
    "A color image uses 24 bits to represent a pixel\n",
    "\"\"\""
   ]
  },
  {
   "cell_type": "code",
   "execution_count": 4,
   "id": "fa606cbe",
   "metadata": {},
   "outputs": [
    {
     "data": {
      "text/plain": [
       "'\\nBy teaching the system’s neural network what colors should be in an image or scene, deep learning techniques are able to turn black and white images into color.\\n'"
      ]
     },
     "execution_count": 4,
     "metadata": {},
     "output_type": "execute_result"
    }
   ],
   "source": [
    "#Q4\n",
    "\"\"\"\n",
    "By teaching the system’s neural network what colors should be in an image or scene, deep learning techniques are able to turn black and white images into color.\n",
    "\"\"\""
   ]
  },
  {
   "cell_type": "code",
   "execution_count": 5,
   "id": "aac12fdf",
   "metadata": {},
   "outputs": [
    {
     "data": {
      "text/plain": [
       "'\\nA Batch Norm layer has parameters of its own: \\nTwo learnable parameters called beta and gamma\\n'"
      ]
     },
     "execution_count": 5,
     "metadata": {},
     "output_type": "execute_result"
    }
   ],
   "source": [
    "#Q5\n",
    "\"\"\"\n",
    "A Batch Norm layer has parameters of its own: \n",
    "Two learnable parameters called beta and gamma\n",
    "\"\"\""
   ]
  },
  {
   "cell_type": "code",
   "execution_count": 6,
   "id": "ee4fa482",
   "metadata": {},
   "outputs": [
    {
     "data": {
      "text/plain": [
       "'\\nBatch normalization is a technique for training very deep neural networks that standardizes the inputs to a layer for each mini-batch. \\nThis has the effect of stabilizing the learning process and dramatically reducing the number of training epochs required to train deep networks.\\n\\nIt consists of normalizing activation vectors from hidden layers using the first and the second statistical moments\\n(mean and variance) of the current batch\\n'"
      ]
     },
     "execution_count": 6,
     "metadata": {},
     "output_type": "execute_result"
    }
   ],
   "source": [
    "#Q6\n",
    "\"\"\"\n",
    "Batch normalization is a technique for training very deep neural networks that standardizes the inputs to a layer for each mini-batch. \n",
    "This has the effect of stabilizing the learning process and dramatically reducing the number of training epochs required to train deep networks.\n",
    "\n",
    "It consists of normalizing activation vectors from hidden layers using the first and the second statistical moments\n",
    "(mean and variance) of the current batch\n",
    "\"\"\""
   ]
  },
  {
   "cell_type": "code",
   "execution_count": 7,
   "id": "be9a3c76",
   "metadata": {},
   "outputs": [
    {
     "data": {
      "text/plain": [
       "'\\nBatch normalization solves a major problem called internal covariate shift. \\nIt helps by making the data flowing between intermediate layers of the neural network look, this means you can use a higher learning rate. It has a regularizing effect which means you can often remove dropout\\n'"
      ]
     },
     "execution_count": 7,
     "metadata": {},
     "output_type": "execute_result"
    }
   ],
   "source": [
    "#Q7\n",
    "\"\"\"\n",
    "Batch normalization solves a major problem called internal covariate shift. \n",
    "It helps by making the data flowing between intermediate layers of the neural network look, this means you can use a higher learning rate. It has a regularizing effect which means you can often remove dropout\n",
    "\"\"\""
   ]
  },
  {
   "cell_type": "code",
   "execution_count": 8,
   "id": "51b3ea00",
   "metadata": {},
   "outputs": [
    {
     "data": {
      "text/plain": [
       "'\\nMax Pooling returns the maximum value from the portion of the image covered by the Kernel. \\n>> Average Pooling returns the average of all the values from the portion of the image covered by the Kernel\\n'"
      ]
     },
     "execution_count": 8,
     "metadata": {},
     "output_type": "execute_result"
    }
   ],
   "source": [
    "#Q8\n",
    "\"\"\"\n",
    "Max Pooling returns the maximum value from the portion of the image covered by the Kernel. \n",
    ">> Average Pooling returns the average of all the values from the portion of the image covered by the Kernel\n",
    "\"\"\""
   ]
  },
  {
   "cell_type": "code",
   "execution_count": 9,
   "id": "2044d5c7",
   "metadata": {},
   "outputs": [
    {
     "data": {
      "text/plain": [
       "'\\nThe main purpose of pooling layer is to progressively reduce the\\nspatial size of the input image, so that number of computations in the network are reduced\\n'"
      ]
     },
     "execution_count": 9,
     "metadata": {},
     "output_type": "execute_result"
    }
   ],
   "source": [
    "#Q9\n",
    "\"\"\"\n",
    "The main purpose of pooling layer is to progressively reduce the\n",
    "spatial size of the input image, so that number of computations in the network are reduced\n",
    "\"\"\""
   ]
  },
  {
   "cell_type": "code",
   "execution_count": 11,
   "id": "5d1842cc",
   "metadata": {},
   "outputs": [
    {
     "data": {
      "text/plain": [
       "'\\nThe output from the convolutional layers represents high-level features in the data. \\nWhile that output could be flattened and connected to the output layer, adding a fully-connected layer\\nis acheap way of learning non-linear combinations of these features\\n'"
      ]
     },
     "execution_count": 11,
     "metadata": {},
     "output_type": "execute_result"
    }
   ],
   "source": [
    "#Q10\n",
    "\"\"\"\n",
    "The output from the convolutional layers represents high-level features in the data. \n",
    "While that output could be flattened and connected to the output layer, adding a fully-connected layer\n",
    "is acheap way of learning non-linear combinations of these features\n",
    "\"\"\""
   ]
  },
  {
   "cell_type": "code",
   "execution_count": 12,
   "id": "36c0b941",
   "metadata": {},
   "outputs": [
    {
     "data": {
      "text/plain": [
       "'\\nA model parameter is a configuration variable that is internal to the model and whose value can be estimated from the given data.\\nThey are required by the model when making predictions. Their values define the skill of the model on your problem.\\n'"
      ]
     },
     "execution_count": 12,
     "metadata": {},
     "output_type": "execute_result"
    }
   ],
   "source": [
    "#Q11\n",
    "\"\"\"\n",
    "A model parameter is a configuration variable that is internal to the model and whose value can be estimated from the given data.\n",
    "They are required by the model when making predictions. Their values define the skill of the model on your problem.\n",
    "\"\"\""
   ]
  },
  {
   "cell_type": "code",
   "execution_count": 13,
   "id": "42ec334e",
   "metadata": {},
   "outputs": [
    {
     "data": {
      "text/plain": [
       "'\\n((m * n * d)+1)* k)\\nm = width of the filter\\nn = height of the filter\\nd = no.of filters in the previous layer\\nk = numver of filters\\n'"
      ]
     },
     "execution_count": 13,
     "metadata": {},
     "output_type": "execute_result"
    }
   ],
   "source": [
    "#Q12\n",
    "\"\"\"\n",
    "((m * n * d)+1)* k)\n",
    "m = width of the filter\n",
    "n = height of the filter\n",
    "d = no.of filters in the previous layer\n",
    "k = numver of filters\n",
    "\"\"\""
   ]
  },
  {
   "cell_type": "code",
   "execution_count": null,
   "id": "1428ac33",
   "metadata": {},
   "outputs": [],
   "source": []
  }
 ],
 "metadata": {
  "kernelspec": {
   "display_name": "Python 3 (ipykernel)",
   "language": "python",
   "name": "python3"
  },
  "language_info": {
   "codemirror_mode": {
    "name": "ipython",
    "version": 3
   },
   "file_extension": ".py",
   "mimetype": "text/x-python",
   "name": "python",
   "nbconvert_exporter": "python",
   "pygments_lexer": "ipython3",
   "version": "3.10.9"
  }
 },
 "nbformat": 4,
 "nbformat_minor": 5
}
